{
 "cells": [
  {
   "cell_type": "code",
   "execution_count": 9,
   "metadata": {},
   "outputs": [],
   "source": [
    "import numpy as np\n",
    "import tensorflow as tf\n",
    "from tensorflow import keras\n",
    "import matplotlib.pyplot as plt\n",
    "from tensorflow.keras.layers import Input, Dense, GlobalAveragePooling1D"
   ]
  },
  {
   "cell_type": "code",
   "execution_count": 10,
   "metadata": {},
   "outputs": [],
   "source": [
    "import sys\n",
    "sys.path.append('../')\n",
    "\n",
    "from keras_vision_transformer import swin_layers\n",
    "from keras_vision_transformer import transformer_layers"
   ]
  },
  {
   "cell_type": "code",
   "execution_count": 11,
   "metadata": {},
   "outputs": [],
   "source": [
    "# Import series of helper functions for the notebook\n",
    "\n",
    "from helper_functions import create_tensorboard_callback, plot_loss_curves"
   ]
  },
  {
   "cell_type": "code",
   "execution_count": 12,
   "metadata": {},
   "outputs": [
    {
     "data": {
      "text/plain": [
       "[PhysicalDevice(name='/physical_device:GPU:0', device_type='GPU')]"
      ]
     },
     "execution_count": 12,
     "metadata": {},
     "output_type": "execute_result"
    }
   ],
   "source": [
    "# Check GPU\n",
    "\n",
    "tf.config.list_physical_devices('GPU')"
   ]
  },
  {
   "cell_type": "markdown",
   "metadata": {},
   "source": [
    "## Preprocessing"
   ]
  },
  {
   "cell_type": "code",
   "execution_count": 13,
   "metadata": {},
   "outputs": [],
   "source": [
    "# the data, split between train and test sets\n",
    "(x_train, y_train), (x_test, y_test) = keras.datasets.mnist.load_data()\n",
    "\n",
    "# Scale images to the [0, 1] range\n",
    "x_train = x_train.astype(\"float32\") / 255\n",
    "x_test = x_test.astype(\"float32\") / 255\n",
    "\n",
    "# Make sure images have shape (28, 28, 1)\n",
    "x_train = np.expand_dims(x_train, -1)\n",
    "x_test = np.expand_dims(x_test, -1)\n",
    "\n",
    "y_train = keras.utils.to_categorical(y_train, 10)\n",
    "y_test = keras.utils.to_categorical(y_test, 10)"
   ]
  },
  {
   "cell_type": "markdown",
   "metadata": {},
   "source": [
    "## Hyperparameter"
   ]
  },
  {
   "cell_type": "code",
   "execution_count": 14,
   "metadata": {},
   "outputs": [],
   "source": [
    "input_size = (28, 28, 1) # The image size of the MNIST\n",
    "patch_size = (2, 2) # Segment 28-by-28 frames into 2-by-2 sized patches, patch contents and positions are embedded\n",
    "n_labels = 10 # MNIST labels\n",
    "\n",
    "# Dropout parameters\n",
    "mlp_drop_rate = 0.01 # Droupout after each MLP layer\n",
    "attn_drop_rate = 0.01 # Dropout after Swin-Attention\n",
    "proj_drop_rate = 0.01 # Dropout at the end of each Swin-Attention block, i.e., after linear projections\n",
    "drop_path_rate = 0.01 # Drop-path within skip-connections\n",
    "\n",
    "# Self-attention parameters \n",
    "# (Fixed for all the blocks in this configuration, but can vary per block in larger architectures)\n",
    "num_heads = 8 # Number of attention heads\n",
    "embed_dim = 64 # Number of embedded dimensions\n",
    "num_mlp = 256 # Number of MLP nodes\n",
    "qkv_bias = True # Convert embedded patches to query, key, and values with a learnable additive value\n",
    "qk_scale = None # None: Re-scale query based on embed dimensions per attention head # Float for user specified scaling factor\n",
    "\n",
    "# Shift-window parameters\n",
    "window_size = 2 # Size of attention window (height = width)\n",
    "shift_size = window_size // 2 # Size of shifting (shift_size < window_size)\n",
    "\n",
    "num_patch_x = input_size[0]//patch_size[0]\n",
    "num_patch_y = input_size[1]//patch_size[1]"
   ]
  },
  {
   "cell_type": "markdown",
   "metadata": {},
   "source": [
    "## Model configuration"
   ]
  },
  {
   "cell_type": "code",
   "execution_count": 15,
   "metadata": {},
   "outputs": [],
   "source": [
    "# The input section\n",
    "IN = Input(input_size)\n",
    "X = IN\n",
    "\n",
    "# Extract patches from the input tensor\n",
    "X = transformer_layers.patch_extract(patch_size)(X)\n",
    "\n",
    "# Embed patches to tokens\n",
    "X = transformer_layers.patch_embedding(num_patch_x*num_patch_y, embed_dim)(X)\n",
    "\n",
    "# -------------------- Swin transformers -------------------- #\n",
    "# Stage 1: window-attention + Swin-attention + patch-merging\n",
    "\n",
    "for i in range(2):\n",
    "    \n",
    "    if i % 2 == 0:\n",
    "        shift_size_temp = 0\n",
    "    else:\n",
    "        shift_size_temp = shift_size\n",
    "\n",
    "    X = swin_layers.SwinTransformerBlock(dim=embed_dim, num_patch=(num_patch_x, num_patch_y), num_heads=num_heads, \n",
    "                             window_size=window_size, shift_size=shift_size_temp, num_mlp=num_mlp, qkv_bias=qkv_bias, qk_scale=qk_scale,\n",
    "                             mlp_drop=mlp_drop_rate, attn_drop=attn_drop_rate, proj_drop=proj_drop_rate, drop_path_prob=drop_path_rate, \n",
    "                             name='swin_block{}'.format(i))(X)\n",
    "# Patch-merging\n",
    "#    Pooling patch sequences. Half the number of patches (skip every two patches) and double the embedded dimensions\n",
    "X = transformer_layers.patch_merging((num_patch_x, num_patch_y), embed_dim=embed_dim, name='down{}'.format(i))(X)\n",
    "\n",
    "# ----------------------------------------------------------- #\n",
    "\n",
    "# Convert embedded tokens (2D) to vectors (1D)\n",
    "X = GlobalAveragePooling1D()(X)\n",
    "\n",
    "# The output section\n",
    "OUT = Dense(n_labels, activation='softmax')(X)"
   ]
  },
  {
   "cell_type": "code",
   "execution_count": 16,
   "metadata": {},
   "outputs": [],
   "source": [
    "# Model configuration\n",
    "model = keras.models.Model(inputs=[IN,], outputs=[OUT,])"
   ]
  },
  {
   "cell_type": "code",
   "execution_count": 17,
   "metadata": {},
   "outputs": [
    {
     "name": "stdout",
     "output_type": "stream",
     "text": [
      "Model: \"model\"\n",
      "_________________________________________________________________\n",
      " Layer (type)                Output Shape              Param #   \n",
      "=================================================================\n",
      " input_1 (InputLayer)        [(None, 28, 28, 1)]       0         \n",
      "                                                                 \n",
      " patch_extract (patch_extrac  (None, 196, 4)           0         \n",
      " t)                                                              \n",
      "                                                                 \n",
      " patch_embedding (patch_embe  (None, 196, 64)          12864     \n",
      " dding)                                                          \n",
      "                                                                 \n",
      " swin_transformer_block (Swi  (None, 196, 64)          50072     \n",
      " nTransformerBlock)                                              \n",
      "                                                                 \n",
      " swin_transformer_block_1 (S  (None, 196, 64)          50856     \n",
      " winTransformerBlock)                                            \n",
      "                                                                 \n",
      " patch_merging (patch_mergin  (None, 49, 128)          32768     \n",
      " g)                                                              \n",
      "                                                                 \n",
      " global_average_pooling1d (G  (None, 128)              0         \n",
      " lobalAveragePooling1D)                                          \n",
      "                                                                 \n",
      " dense_1 (Dense)             (None, 10)                1290      \n",
      "                                                                 \n",
      "=================================================================\n",
      "Total params: 147,850\n",
      "Trainable params: 147,034\n",
      "Non-trainable params: 816\n",
      "_________________________________________________________________\n"
     ]
    }
   ],
   "source": [
    "model.summary()"
   ]
  },
  {
   "cell_type": "code",
   "execution_count": 18,
   "metadata": {},
   "outputs": [
    {
     "name": "stdout",
     "output_type": "stream",
     "text": [
      "Saving TensorBoard log files to: ./logs/Swim_model/20240217-142945\n",
      "WARNING:tensorflow:Model failed to serialize as JSON. Ignoring... \n",
      "Layer patch_extract has arguments ['patch_size']\n",
      "in `__init__` and therefore must override `get_config()`.\n",
      "\n",
      "Example:\n",
      "\n",
      "class CustomLayer(keras.layers.Layer):\n",
      "    def __init__(self, arg1, arg2):\n",
      "        super().__init__()\n",
      "        self.arg1 = arg1\n",
      "        self.arg2 = arg2\n",
      "\n",
      "    def get_config(self):\n",
      "        config = super().get_config()\n",
      "        config.update({\n",
      "            \"arg1\": self.arg1,\n",
      "            \"arg2\": self.arg2,\n",
      "        })\n",
      "        return config\n",
      "Epoch 1/5\n",
      "1688/1688 [==============================] - 57s 31ms/step - loss: 0.3676 - accuracy: 0.8821 - val_loss: 0.1495 - val_accuracy: 0.9560\n",
      "Epoch 2/5\n",
      "1688/1688 [==============================] - 61s 36ms/step - loss: 0.1815 - accuracy: 0.9437 - val_loss: 0.1292 - val_accuracy: 0.9620\n",
      "Epoch 3/5\n",
      "1688/1688 [==============================] - 49s 29ms/step - loss: 0.1488 - accuracy: 0.9530 - val_loss: 0.1118 - val_accuracy: 0.9657\n",
      "Epoch 4/5\n",
      "1688/1688 [==============================] - 46s 27ms/step - loss: 0.1332 - accuracy: 0.9587 - val_loss: 0.0991 - val_accuracy: 0.9697\n",
      "Epoch 5/5\n",
      "1688/1688 [==============================] - 47s 28ms/step - loss: 0.1177 - accuracy: 0.9633 - val_loss: 0.0874 - val_accuracy: 0.9750\n"
     ]
    }
   ],
   "source": [
    "# Compile the model\n",
    "opt = keras.optimizers.Adam(learning_rate=1e-3)\n",
    "model.compile(loss=keras.losses.categorical_crossentropy, optimizer=opt, metrics=['accuracy',])\n",
    "\n",
    "# Training\n",
    "SAVE_DIR = \"./logs\"\n",
    "model_history = model.fit(x_train, y_train, batch_size=32, epochs=5, validation_split=0.1, \n",
    "                          callbacks=[create_tensorboard_callback(SAVE_DIR, \"Swim_model\")])"
   ]
  },
  {
   "cell_type": "code",
   "execution_count": 19,
   "metadata": {},
   "outputs": [
    {
     "data": {
      "image/png": "[encoded data removed]",
      "text/plain": [
       "<Figure size 640x480 with 1 Axes>"
      ]
     },
     "metadata": {},
     "output_type": "display_data"
    },
    {
     "data": {
      "image/png": "[encoded data removed]",
      "text/plain": [
       "<Figure size 640x480 with 1 Axes>"
      ]
     },
     "metadata": {},
     "output_type": "display_data"
    }
   ],
   "source": [
    "plot_loss_curves(model_history)\n",
    "plt.show()"
   ]
  },
  {
   "cell_type": "markdown",
   "metadata": {},
   "source": [
    "## Evaluate"
   ]
  },
  {
   "cell_type": "code",
   "execution_count": 20,
   "metadata": {},
   "outputs": [
    {
     "name": "stdout",
     "output_type": "stream",
     "text": [
      "313/313 [==============================] - 3s 9ms/step\n"
     ]
    },
    {
     "data": {
      "text/plain": [
       "((10000, 10),\n",
       " array([[3.80356552e-10, 3.59005270e-07, 1.63599486e-06, 4.34768190e-05,\n",
       "         7.04813630e-08, 3.25047794e-10, 3.92655174e-13, 9.99943614e-01,\n",
       "         5.74201664e-09, 1.08320037e-05],\n",
       "        [1.39295228e-03, 6.79993944e-04, 9.96731281e-01, 1.11135561e-03,\n",
       "         3.86447496e-09, 3.83354752e-08, 7.38297895e-05, 2.08755804e-08,\n",
       "         1.05752906e-05, 5.29442623e-09],\n",
       "        [6.54992718e-08, 9.99100685e-01, 1.05706185e-05, 9.65970571e-07,\n",
       "         6.02829619e-04, 2.27632427e-07, 2.55674126e-06, 2.57406296e-04,\n",
       "         2.42054593e-05, 4.63134455e-07],\n",
       "        [9.99111235e-01, 4.26938129e-08, 3.27241840e-04, 5.10186783e-06,\n",
       "         2.99100680e-06, 5.95157326e-06, 5.13734354e-04, 1.17103218e-05,\n",
       "         4.32896989e-08, 2.19535050e-05],\n",
       "        [2.29939978e-09, 1.45429686e-08, 2.90040152e-08, 1.30974120e-09,\n",
       "         9.99950051e-01, 5.73551540e-10, 6.86915325e-09, 1.77732407e-08,\n",
       "         6.55124524e-08, 4.98859736e-05],\n",
       "        [3.88569488e-09, 9.99819696e-01, 8.25427196e-06, 1.20020104e-06,\n",
       "         1.00199875e-04, 1.03853379e-08, 2.39741311e-08, 6.19642742e-05,\n",
       "         8.60999171e-06, 8.82422171e-08],\n",
       "        [3.23649108e-10, 1.10927303e-05, 9.94066127e-08, 8.93554883e-08,\n",
       "         9.99920964e-01, 4.55310925e-07, 7.38676533e-08, 1.16631202e-06,\n",
       "         1.73087883e-05, 4.87025609e-05],\n",
       "        [4.98558848e-07, 1.69530787e-04, 4.44728474e-04, 1.56775326e-03,\n",
       "         4.50864702e-01, 3.37477941e-05, 2.93221802e-07, 6.95079798e-05,\n",
       "         3.33441864e-03, 5.43514848e-01],\n",
       "        [8.84278677e-07, 5.69154945e-09, 2.03871497e-09, 3.45148067e-07,\n",
       "         6.21436311e-06, 7.96672225e-01, 2.03140661e-01, 2.50088811e-10,\n",
       "         1.61603064e-04, 1.80682018e-05],\n",
       "        [1.29150033e-08, 3.76709774e-10, 2.87938775e-08, 4.45135902e-06,\n",
       "         3.48928198e-03, 2.52453276e-07, 5.67728198e-10, 3.73322493e-03,\n",
       "         8.92963544e-06, 9.92763937e-01]], dtype=float32))"
      ]
     },
     "execution_count": 20,
     "metadata": {},
     "output_type": "execute_result"
    }
   ],
   "source": [
    "# Make predictions on the validation data\n",
    "\n",
    "model_pred_probs = model.predict(x_test)\n",
    "model_pred_probs.shape, model_pred_probs[:10]"
   ]
  },
  {
   "cell_type": "code",
   "execution_count": 21,
   "metadata": {},
   "outputs": [
    {
     "data": {
      "text/plain": [
       "<tf.Tensor: shape=(10, 10), dtype=float32, numpy=\n",
       "array([[0., 0., 0., 0., 0., 0., 0., 1., 0., 0.],\n",
       "       [0., 0., 1., 0., 0., 0., 0., 0., 0., 0.],\n",
       "       [0., 1., 0., 0., 0., 0., 0., 0., 0., 0.],\n",
       "       [1., 0., 0., 0., 0., 0., 0., 0., 0., 0.],\n",
       "       [0., 0., 0., 0., 1., 0., 0., 0., 0., 0.],\n",
       "       [0., 1., 0., 0., 0., 0., 0., 0., 0., 0.],\n",
       "       [0., 0., 0., 0., 1., 0., 0., 0., 0., 0.],\n",
       "       [0., 0., 0., 0., 0., 0., 0., 0., 0., 1.],\n",
       "       [0., 0., 0., 0., 0., 1., 0., 0., 0., 0.],\n",
       "       [0., 0., 0., 0., 0., 0., 0., 0., 0., 1.]], dtype=float32)>"
      ]
     },
     "execution_count": 21,
     "metadata": {},
     "output_type": "execute_result"
    }
   ],
   "source": [
    "# Convert prediction probabilities to prediction classes\n",
    "\n",
    "model_preds = tf.squeeze(tf.round(model_pred_probs))\n",
    "model_preds[:10]"
   ]
  },
  {
   "cell_type": "code",
   "execution_count": 22,
   "metadata": {},
   "outputs": [],
   "source": [
    "from sklearn.metrics import accuracy_score, precision_recall_fscore_support\n",
    "\n",
    "def calculate_results(y_true, y_pred):\n",
    "\n",
    "    # Convert one-hot encoded labels to class labels\n",
    "    y_true_classes = np.argmax(y_true, axis=1) if len(y_true.shape) > 1 else y_true\n",
    "    y_pred_classes = np.argmax(y_pred, axis=1) if len(y_pred.shape) > 1 else y_pred\n",
    "\n",
    "    # Calculate model accuracy\n",
    "    model_accuracy = accuracy_score(y_true_classes, y_pred_classes) * 100\n",
    "    \n",
    "    # Calculate model precision, recall, and f1 score using \"weighted average\"\n",
    "    model_precision, model_recall, model_f1, _ = precision_recall_fscore_support(y_true_classes, y_pred_classes, average=\"weighted\")\n",
    "    model_results = {\"accuracy\": model_accuracy,\n",
    "                     \"precision\": model_precision,\n",
    "                     \"recall\": model_recall,\n",
    "                     \"f1\": model_f1}\n",
    "    return model_results"
   ]
  },
  {
   "cell_type": "code",
   "execution_count": 23,
   "metadata": {},
   "outputs": [
    {
     "data": {
      "text/plain": [
       "{'accuracy': 96.39,\n",
       " 'precision': 0.964702978757739,\n",
       " 'recall': 0.9639,\n",
       " 'f1': 0.9639436177028862}"
      ]
     },
     "execution_count": 23,
     "metadata": {},
     "output_type": "execute_result"
    }
   ],
   "source": [
    "model_results = calculate_results(y_true=y_test, y_pred=model_preds)\n",
    "model_results"
   ]
  }
 ],
 "metadata": {
  "kernelspec": {
   "display_name": "my_env",
   "language": "python",
   "name": "python3"
  },
  "language_info": {
   "codemirror_mode": {
    "name": "ipython",
    "version": 3
   },
   "file_extension": ".py",
   "mimetype": "text/x-python",
   "name": "python",
   "nbconvert_exporter": "python",
   "pygments_lexer": "ipython3",
   "version": "3.9.18"
  }
 },
 "nbformat": 4,
 "nbformat_minor": 2
}
